{
 "cells": [
  {
   "cell_type": "code",
   "execution_count": 2,
   "metadata": {},
   "outputs": [],
   "source": [
    "import os\n",
    "import pandas as pd \n",
    "import librosa\n",
    "import numpy as np\n",
    "import matplotlib.pyplot as plt\n",
    "import torch \n",
    "from IPython.display import Audio\n",
    "from tqdm import tqdm\n",
    "\n",
    "import nibabel as nib\n",
    "from nilearn import plotting\n",
    "from nilearn.glm.first_level import FirstLevelModel\n",
    "from nilearn.plotting import plot_design_matrix\n",
    "from nilearn.plotting import plot_contrast_matrix"
   ]
  },
  {
   "cell_type": "code",
   "execution_count": 3,
   "metadata": {},
   "outputs": [
    {
     "name": "stdout",
     "output_type": "stream",
     "text": [
      "['data_wav', 'ds003720', 'glmsingle_outputs', 'ds003720-download', 'annex-uuid', 'fmri_preproc_data']\n",
      "['brain2music-captions.csv', 'genres_original', '.DS_Store', 'features_30_sec.csv', 'images_original', 'features_3_sec.csv']\n",
      "['anat', 'figures', 'log', 'func']\n"
     ]
    }
   ],
   "source": [
    "fmri_music_path = '/data01/data/fMRI_music_genre'\n",
    "print(os.listdir(fmri_music_path))\n",
    "stimuli_path = fmri_music_path + '/data_wav'\n",
    "print(os.listdir(stimuli_path))\n",
    "\n",
    "subject = \"sub-001\"\n",
    "neural_path_deriv = fmri_music_path + '/ds003720-download/derivatives/' + subject\n",
    "neural_path = fmri_music_path + '/ds003720-download/' + subject\n",
    "print(os.listdir(neural_path_deriv))\n",
    "# fmri_data = nib.load(event_path_train.replace('events.tsv', 'bold.nii'))"
   ]
  },
  {
   "cell_type": "code",
   "execution_count": 4,
   "metadata": {},
   "outputs": [
    {
     "name": "stdout",
     "output_type": "stream",
     "text": [
      "['sub-001_task-Training_run-07_events.tsv', 'sub-001_task-Training_run-08_events.tsv', 'sub-001_task-Training_run-01_events.tsv', 'sub-001_task-Training_run-10_events.tsv', 'sub-001_task-Training_run-02_events.tsv', 'sub-001_task-Training_run-11_events.tsv', 'sub-001_task-Training_run-03_events.tsv', 'sub-001_task-Training_run-04_events.tsv', 'sub-001_task-Training_run-12_events.tsv', 'sub-001_task-Training_run-05_events.tsv', 'sub-001_task-Training_run-06_events.tsv', 'sub-001_task-Training_run-09_events.tsv']\n"
     ]
    }
   ],
   "source": [
    "def is_training_events_file(filename, phase):\n",
    "    return filename.startswith(\"sub-001_task-\"+phase+\"_run-\") and filename.endswith(\"_events.tsv\")\n",
    "\n",
    "all_files = os.listdir(neural_path + '/func')\n",
    "training_files = [filename for filename in all_files if is_training_events_file(filename, \"Training\")]\n",
    "print(training_files)"
   ]
  },
  {
   "cell_type": "code",
   "execution_count": 8,
   "metadata": {},
   "outputs": [
    {
     "name": "stderr",
     "output_type": "stream",
     "text": [
      "  0%|          | 0/12 [00:00<?, ?it/s]"
     ]
    },
    {
     "name": "stdout",
     "output_type": "stream",
     "text": [
      "/data01/data/fMRI_music_genre/ds003720-download/derivatives/sub-001/func/sub-001_task-Training_run-07_space-MNI152NLin2009cAsym_desc-preproc_bold.nii.gz\n"
     ]
    },
    {
     "name": "stderr",
     "output_type": "stream",
     "text": [
      "100%|██████████| 41/41 [00:00<00:00, 302.25it/s]\n",
      "/home/matteoc/miniconda3/envs/speech-meg/lib/python3.9/site-packages/nilearn/glm/first_level/experimental_paradigm.py:167: UserWarning: The following unexpected columns in events data will be ignored: track, start, genre, end\n",
      "  warnings.warn(\n",
      "  8%|▊         | 1/12 [00:16<03:03, 16.71s/it]"
     ]
    },
    {
     "name": "stdout",
     "output_type": "stream",
     "text": [
      "/data01/data/fMRI_music_genre/ds003720-download/derivatives/sub-001/func/sub-001_task-Training_run-08_space-MNI152NLin2009cAsym_desc-preproc_bold.nii.gz\n"
     ]
    },
    {
     "name": "stderr",
     "output_type": "stream",
     "text": [
      "100%|██████████| 41/41 [00:00<00:00, 270.14it/s]\n",
      "/home/matteoc/miniconda3/envs/speech-meg/lib/python3.9/site-packages/nilearn/glm/first_level/experimental_paradigm.py:167: UserWarning: The following unexpected columns in events data will be ignored: track, start, genre, end\n",
      "  warnings.warn(\n",
      " 17%|█▋        | 2/12 [00:34<02:50, 17.10s/it]"
     ]
    },
    {
     "name": "stdout",
     "output_type": "stream",
     "text": [
      "/data01/data/fMRI_music_genre/ds003720-download/derivatives/sub-001/func/sub-001_task-Training_run-01_space-MNI152NLin2009cAsym_desc-preproc_bold.nii.gz\n"
     ]
    },
    {
     "name": "stderr",
     "output_type": "stream",
     "text": [
      "100%|██████████| 41/41 [00:00<00:00, 281.57it/s]\n",
      "/home/matteoc/miniconda3/envs/speech-meg/lib/python3.9/site-packages/nilearn/glm/first_level/experimental_paradigm.py:167: UserWarning: The following unexpected columns in events data will be ignored: track, start, genre, end\n",
      "  warnings.warn(\n",
      " 25%|██▌       | 3/12 [00:51<02:33, 17.02s/it]"
     ]
    },
    {
     "name": "stdout",
     "output_type": "stream",
     "text": [
      "/data01/data/fMRI_music_genre/ds003720-download/derivatives/sub-001/func/sub-001_task-Training_run-10_space-MNI152NLin2009cAsym_desc-preproc_bold.nii.gz\n"
     ]
    },
    {
     "name": "stderr",
     "output_type": "stream",
     "text": [
      "100%|██████████| 41/41 [00:00<00:00, 274.80it/s]\n",
      "/home/matteoc/miniconda3/envs/speech-meg/lib/python3.9/site-packages/nilearn/glm/first_level/experimental_paradigm.py:167: UserWarning: The following unexpected columns in events data will be ignored: track, start, genre, end\n",
      "  warnings.warn(\n",
      " 33%|███▎      | 4/12 [01:07<02:15, 16.88s/it]"
     ]
    },
    {
     "name": "stdout",
     "output_type": "stream",
     "text": [
      "/data01/data/fMRI_music_genre/ds003720-download/derivatives/sub-001/func/sub-001_task-Training_run-02_space-MNI152NLin2009cAsym_desc-preproc_bold.nii.gz\n"
     ]
    },
    {
     "name": "stderr",
     "output_type": "stream",
     "text": [
      "100%|██████████| 41/41 [00:00<00:00, 262.70it/s]\n",
      "/home/matteoc/miniconda3/envs/speech-meg/lib/python3.9/site-packages/nilearn/glm/first_level/experimental_paradigm.py:167: UserWarning: The following unexpected columns in events data will be ignored: track, start, genre, end\n",
      "  warnings.warn(\n",
      " 42%|████▏     | 5/12 [01:24<01:58, 16.96s/it]"
     ]
    },
    {
     "name": "stdout",
     "output_type": "stream",
     "text": [
      "/data01/data/fMRI_music_genre/ds003720-download/derivatives/sub-001/func/sub-001_task-Training_run-11_space-MNI152NLin2009cAsym_desc-preproc_bold.nii.gz\n"
     ]
    },
    {
     "name": "stderr",
     "output_type": "stream",
     "text": [
      "100%|██████████| 41/41 [00:00<00:00, 269.54it/s]\n",
      "/home/matteoc/miniconda3/envs/speech-meg/lib/python3.9/site-packages/nilearn/glm/first_level/experimental_paradigm.py:167: UserWarning: The following unexpected columns in events data will be ignored: track, start, genre, end\n",
      "  warnings.warn(\n",
      " 50%|█████     | 6/12 [01:41<01:40, 16.76s/it]"
     ]
    },
    {
     "name": "stdout",
     "output_type": "stream",
     "text": [
      "/data01/data/fMRI_music_genre/ds003720-download/derivatives/sub-001/func/sub-001_task-Training_run-03_space-MNI152NLin2009cAsym_desc-preproc_bold.nii.gz\n"
     ]
    },
    {
     "name": "stderr",
     "output_type": "stream",
     "text": [
      "100%|██████████| 41/41 [00:00<00:00, 270.83it/s]\n",
      "/home/matteoc/miniconda3/envs/speech-meg/lib/python3.9/site-packages/nilearn/glm/first_level/experimental_paradigm.py:167: UserWarning: The following unexpected columns in events data will be ignored: track, start, genre, end\n",
      "  warnings.warn(\n",
      " 58%|█████▊    | 7/12 [01:56<01:22, 16.46s/it]"
     ]
    },
    {
     "name": "stdout",
     "output_type": "stream",
     "text": [
      "/data01/data/fMRI_music_genre/ds003720-download/derivatives/sub-001/func/sub-001_task-Training_run-04_space-MNI152NLin2009cAsym_desc-preproc_bold.nii.gz\n"
     ]
    },
    {
     "name": "stderr",
     "output_type": "stream",
     "text": [
      "100%|██████████| 41/41 [00:00<00:00, 258.58it/s]\n",
      "/home/matteoc/miniconda3/envs/speech-meg/lib/python3.9/site-packages/nilearn/glm/first_level/experimental_paradigm.py:167: UserWarning: The following unexpected columns in events data will be ignored: track, start, genre, end\n",
      "  warnings.warn(\n",
      " 67%|██████▋   | 8/12 [02:13<01:05, 16.38s/it]"
     ]
    },
    {
     "name": "stdout",
     "output_type": "stream",
     "text": [
      "/data01/data/fMRI_music_genre/ds003720-download/derivatives/sub-001/func/sub-001_task-Training_run-12_space-MNI152NLin2009cAsym_desc-preproc_bold.nii.gz\n"
     ]
    },
    {
     "name": "stderr",
     "output_type": "stream",
     "text": [
      "100%|██████████| 41/41 [00:00<00:00, 271.23it/s]\n",
      "/home/matteoc/miniconda3/envs/speech-meg/lib/python3.9/site-packages/nilearn/glm/first_level/experimental_paradigm.py:167: UserWarning: The following unexpected columns in events data will be ignored: track, start, genre, end\n",
      "  warnings.warn(\n",
      " 75%|███████▌  | 9/12 [02:29<00:49, 16.44s/it]"
     ]
    },
    {
     "name": "stdout",
     "output_type": "stream",
     "text": [
      "/data01/data/fMRI_music_genre/ds003720-download/derivatives/sub-001/func/sub-001_task-Training_run-05_space-MNI152NLin2009cAsym_desc-preproc_bold.nii.gz\n"
     ]
    },
    {
     "name": "stderr",
     "output_type": "stream",
     "text": [
      "100%|██████████| 41/41 [00:00<00:00, 281.49it/s]\n",
      "/home/matteoc/miniconda3/envs/speech-meg/lib/python3.9/site-packages/nilearn/glm/first_level/experimental_paradigm.py:167: UserWarning: The following unexpected columns in events data will be ignored: track, start, genre, end\n",
      "  warnings.warn(\n",
      " 83%|████████▎ | 10/12 [02:46<00:33, 16.51s/it]"
     ]
    },
    {
     "name": "stdout",
     "output_type": "stream",
     "text": [
      "/data01/data/fMRI_music_genre/ds003720-download/derivatives/sub-001/func/sub-001_task-Training_run-06_space-MNI152NLin2009cAsym_desc-preproc_bold.nii.gz\n"
     ]
    },
    {
     "name": "stderr",
     "output_type": "stream",
     "text": [
      "100%|██████████| 41/41 [00:00<00:00, 264.67it/s]\n",
      "/home/matteoc/miniconda3/envs/speech-meg/lib/python3.9/site-packages/nilearn/glm/first_level/experimental_paradigm.py:167: UserWarning: The following unexpected columns in events data will be ignored: track, start, genre, end\n",
      "  warnings.warn(\n",
      " 92%|█████████▏| 11/12 [03:03<00:16, 16.61s/it]"
     ]
    },
    {
     "name": "stdout",
     "output_type": "stream",
     "text": [
      "/data01/data/fMRI_music_genre/ds003720-download/derivatives/sub-001/func/sub-001_task-Training_run-09_space-MNI152NLin2009cAsym_desc-preproc_bold.nii.gz\n"
     ]
    },
    {
     "name": "stderr",
     "output_type": "stream",
     "text": [
      "100%|██████████| 41/41 [00:00<00:00, 275.10it/s]\n",
      "/home/matteoc/miniconda3/envs/speech-meg/lib/python3.9/site-packages/nilearn/glm/first_level/experimental_paradigm.py:167: UserWarning: The following unexpected columns in events data will be ignored: track, start, genre, end\n",
      "  warnings.warn(\n",
      "100%|██████████| 12/12 [03:19<00:00, 16.62s/it]\n"
     ]
    },
    {
     "name": "stdout",
     "output_type": "stream",
     "text": [
      "(77, 95, 82, 492)\n",
      "(240000, 492)\n",
      "(492,)\n"
     ]
    }
   ],
   "source": [
    "def get_fmri_data(training_files, t_r):\n",
    "    eff_map_array = []\n",
    "    stimuli_array = []\n",
    "    genre_track_array = []\n",
    "    for event in tqdm(training_files):\n",
    "        event_path = neural_path + '/func/' + event\n",
    "        fmri_preproc_path = neural_path_deriv + '/func/' + event.replace(\"_events.tsv\",\"_space-MNI152NLin2009cAsym_desc-preproc_bold.nii.gz\")\n",
    "        events_df = pd.read_csv(event_path, sep='\\t')\n",
    "\n",
    "        for i in tqdm(range(len(events_df))):\n",
    "            genre = events_df['genre'].iloc[i].strip(\"'\")\n",
    "            track = int(events_df['track'].iloc[i]) \n",
    "            start = float(events_df['start'].iloc[i])\n",
    "            track_str = str(track).zfill(5)\n",
    "            wav_path = os.path.join(stimuli_path, 'genres_original', genre, f\"{genre}.{track_str}.wav\")\n",
    "            y_sound, sr = librosa.load(wav_path, sr=16000, offset=start, duration=15)\n",
    "            genre_track_array.append(genre+track_str)\n",
    "            stimuli_array.append(y_sound.reshape(-1,1))\n",
    "\n",
    "        fmri_img = nib.load(fmri_preproc_path)\n",
    "        events_df['trial_type'] = events_df['genre'].str.strip(\"'\") + ' - ' + events_df['track'].astype(str)\n",
    "        first_level_model = FirstLevelModel(t_r)\n",
    "        first_level_model = first_level_model.fit(fmri_img, events=events_df)\n",
    "        design_matrix_gentrack = first_level_model.design_matrices_[0]\n",
    "\n",
    "        contrast_val_gentrack = np.eye(design_matrix_gentrack.shape[1])[0:-13]\n",
    "        eff_map_gentrack = first_level_model.compute_contrast(contrast_val_gentrack, output_type=\"effect_size\")\n",
    "        data_gentrack = eff_map_gentrack.get_fdata()\n",
    "        eff_map_array.append(data_gentrack)\n",
    "\n",
    "    eff_map_stacked = np.concatenate(eff_map_array, axis=-1)\n",
    "    stimuli_stacked = np.concatenate(stimuli_array, axis=-1)\n",
    "    gtrack_stacked = np.array(genre_track_array)\n",
    "    return eff_map_stacked, stimuli_stacked, gtrack_stacked\n",
    "\n",
    "eff_map_stacked, stimuli_stacked, gtrack_stacked = get_fmri_data(training_files, 1.5)\n",
    "print(eff_map_stacked.shape)\n",
    "print(stimuli_stacked.shape)\n",
    "print(gtrack_stacked.shape)\n"
   ]
  },
  {
   "cell_type": "code",
   "execution_count": 9,
   "metadata": {},
   "outputs": [
    {
     "data": {
      "text/plain": [
       "array(['jazz00034', 'pop00016', 'jazz00004', 'country00017',\n",
       "       'classical00038', 'hiphop00002', 'disco00012', 'reggae00018',\n",
       "       'metal00094', 'rock00062', 'blues00092', 'metal00091',\n",
       "       'hiphop00094', 'rock00005', 'country00010', 'pop00023',\n",
       "       'disco00063', 'classical00076', 'reggae00090', 'blues00033',\n",
       "       'jazz00063', 'pop00048', 'reggae00027', 'classical00091',\n",
       "       'jazz00083', 'rock00051', 'hiphop00006', 'blues00080',\n",
       "       'disco00031', 'metal00015', 'country00073', 'reggae00042',\n",
       "       'jazz00099', 'disco00074', 'rock00035', 'metal00040', 'blues00031',\n",
       "       'classical00067', 'hiphop00080', 'pop00001', 'country00062',\n",
       "       'country00062', 'reggae00059', 'metal00054', 'country00053',\n",
       "       'pop00008', 'rock00040', 'hiphop00070', 'disco00098', 'blues00089',\n",
       "       'jazz00026', 'classical00030', 'disco00052', 'classical00097',\n",
       "       'country00090', 'blues00096', 'rock00072', 'jazz00033', 'pop00082',\n",
       "       'hiphop00074', 'reggae00030', 'metal00031', 'jazz00061',\n",
       "       'blues00053', 'reggae00043', 'hiphop00059', 'metal00062',\n",
       "       'disco00096', 'pop00087', 'country00041', 'classical00044',\n",
       "       'rock00013', 'jazz00012', 'disco00030', 'rock00088',\n",
       "       'country00028', 'classical00003', 'metal00072', 'pop00055',\n",
       "       'reggae00031', 'hiphop00078', 'blues00079', 'disco00009',\n",
       "       'blues00098', 'hiphop00053', 'pop00029', 'jazz00009',\n",
       "       'classical00039', 'disco00043', 'country00054', 'metal00092',\n",
       "       'reggae00004', 'rock00002', 'blues00036', 'jazz00018', 'rock00054',\n",
       "       'classical00095', 'reggae00068', 'country00039', 'hiphop00010',\n",
       "       'pop00043', 'metal00057', 'disco00081', 'blues00085', 'rock00043',\n",
       "       'classical00023', 'disco00091', 'hiphop00066', 'reggae00055',\n",
       "       'pop00092', 'metal00038', 'jazz00077', 'country00036', 'jazz00016',\n",
       "       'reggae00026', 'disco00066', 'pop00017', 'rock00037', 'blues00077',\n",
       "       'classical00084', 'country00067', 'hiphop00072', 'metal00078',\n",
       "       'classical00085', 'metal00085', 'rock00084', 'country00021',\n",
       "       'jazz00046', 'classical00048', 'reggae00052', 'hiphop00075',\n",
       "       'disco00025', 'blues00078', 'pop00014', 'country00024',\n",
       "       'disco00059', 'hiphop00098', 'blues00023', 'rock00006',\n",
       "       'jazz00015', 'classical00088', 'reggae00005', 'pop00061',\n",
       "       'metal00006', 'pop00077', 'rock00090', 'reggae00015',\n",
       "       'country00071', 'blues00065', 'metal00090', 'classical00029',\n",
       "       'disco00092', 'jazz00095', 'hiphop00084', 'reggae00039',\n",
       "       'country00084', 'disco00029', 'blues00066', 'rock00098',\n",
       "       'pop00093', 'metal00098', 'jazz00043', 'hiphop00092',\n",
       "       'classical00052', 'metal00078', 'rock00065', 'metal00010',\n",
       "       'disco00053', 'jazz00055', 'country00081', 'reggae00062',\n",
       "       'hiphop00056', 'pop00052', 'classical00033', 'blues00074',\n",
       "       'rock00053', 'hiphop00062', 'disco00061', 'jazz00078',\n",
       "       'metal00004', 'pop00099', 'reggae00079', 'blues00045',\n",
       "       'country00006', 'classical00028', 'rock00009', 'hiphop00035',\n",
       "       'metal00008', 'country00046', 'pop00026', 'reggae00084',\n",
       "       'jazz00079', 'classical00026', 'disco00054', 'blues00094',\n",
       "       'jazz00067', 'reggae00077', 'blues00064', 'disco00016',\n",
       "       'hiphop00060', 'rock00076', 'metal00009', 'country00072',\n",
       "       'classical00094', 'pop00037', 'classical00052', 'blues00026',\n",
       "       'classical00086', 'rock00033', 'disco00028', 'reggae00037',\n",
       "       'country00082', 'jazz00073', 'hiphop00090', 'pop00034',\n",
       "       'metal00080', 'classical00006', 'pop00059', 'country00027',\n",
       "       'disco00069', 'hiphop00041', 'metal00046', 'reggae00089',\n",
       "       'blues00038', 'rock00093', 'jazz00037', 'blues00010',\n",
       "       'country00083', 'metal00029', 'jazz00085', 'rock00070',\n",
       "       'hiphop00069', 'pop00022', 'disco00005', 'reggae00016',\n",
       "       'classical00010', 'country00042', 'classical00089', 'metal00036',\n",
       "       'jazz00051', 'blues00006', 'hiphop00087', 'rock00028', 'pop00036',\n",
       "       'disco00034', 'reggae00024', 'pop00037', 'metal00082', 'pop00072',\n",
       "       'jazz00027', 'rock00097', 'country00030', 'disco00085',\n",
       "       'reggae00019', 'classical00049', 'blues00076', 'hiphop00058',\n",
       "       'pop00065', 'classical00066', 'metal00023', 'reggae00007',\n",
       "       'country00045', 'rock00060', 'disco00014', 'blues00000',\n",
       "       'jazz00022', 'hiphop00076', 'metal00049', 'blues00068',\n",
       "       'rock00039', 'hiphop00030', 'pop00005', 'classical00016',\n",
       "       'reggae00008', 'country00050', 'disco00086', 'jazz00075',\n",
       "       'hiphop00031', 'jazz00064', 'classical00034', 'pop00015',\n",
       "       'blues00011', 'rock00036', 'metal00007', 'disco00049',\n",
       "       'country00018', 'reggae00088', 'reggae00088', 'disco00045',\n",
       "       'hiphop00086', 'rock00029', 'jazz00042', 'country00009',\n",
       "       'reggae00028', 'metal00069', 'pop00044', 'classical00011',\n",
       "       'blues00014', 'jazz00041', 'hiphop00045', 'reggae00035',\n",
       "       'country00095', 'metal00044', 'rock00092', 'classical00040',\n",
       "       'disco00027', 'blues00052', 'pop00056', 'blues00090',\n",
       "       'country00016', 'jazz00082', 'classical00017', 'reggae00048',\n",
       "       'hiphop00061', 'pop00039', 'metal00047', 'rock00052', 'disco00013',\n",
       "       'pop00051', 'blues00020', 'hiphop00068', 'reggae00060',\n",
       "       'country00080', 'rock00071', 'disco00062', 'classical00037',\n",
       "       'jazz00058', 'metal00097', 'reggae00024', 'classical00081',\n",
       "       'reggae00095', 'metal00084', 'rock00089', 'hiphop00077',\n",
       "       'pop00060', 'disco00015', 'jazz00013', 'country00015',\n",
       "       'blues00050', 'country00026', 'classical00053', 'pop00071',\n",
       "       'disco00073', 'hiphop00047', 'blues00015', 'rock00038',\n",
       "       'reggae00032', 'metal00002', 'jazz00093', 'pop00085', 'rock00041',\n",
       "       'blues00063', 'metal00065', 'reggae00065', 'country00056',\n",
       "       'jazz00036', 'disco00002', 'hiphop00067', 'classical00035',\n",
       "       'rock00099', 'pop00049', 'reggae00041', 'classical00005',\n",
       "       'jazz00086', 'blues00060', 'country00020', 'hiphop00088',\n",
       "       'metal00032', 'disco00009', 'metal00097', 'hiphop00020',\n",
       "       'classical00043', 'reggae00022', 'country00074', 'jazz00047',\n",
       "       'metal00088', 'disco00099', 'blues00041', 'rock00014', 'pop00094',\n",
       "       'jazz00003', 'pop00031', 'hiphop00028', 'metal00025', 'blues00046',\n",
       "       'reggae00040', 'classical00060', 'country00044', 'rock00057',\n",
       "       'disco00084', 'hiphop00046', 'metal00075', 'disco00037',\n",
       "       'classical00024', 'rock00019', 'country00029', 'jazz00070',\n",
       "       'pop00035', 'reggae00044', 'blues00028', 'country00052',\n",
       "       'hiphop00008', 'classical00031', 'metal00027', 'rock00001',\n",
       "       'pop00097', 'jazz00006', 'disco00007', 'blues00049', 'reggae00073',\n",
       "       'reggae00073', 'country00040', 'classical00015', 'rock00081',\n",
       "       'hiphop00043', 'reggae00046', 'disco00048', 'jazz00017',\n",
       "       'metal00018', 'blues00062', 'pop00004', 'rock00091', 'jazz00060',\n",
       "       'classical00072', 'hiphop00003', 'metal00074', 'country00008',\n",
       "       'disco00032', 'reggae00045', 'blues00005', 'pop00002',\n",
       "       'classical00074', 'reggae00076', 'jazz00068', 'metal00093',\n",
       "       'blues00072', 'rock00012', 'hiphop00033', 'pop00076', 'disco00093',\n",
       "       'country00070', 'classical00070', 'country00034', 'pop00054',\n",
       "       'metal00055', 'blues00022', 'rock00094', 'reggae00080',\n",
       "       'hiphop00050', 'disco00006', 'jazz00034', 'blues00079',\n",
       "       'jazz00094', 'blues00095', 'country00035', 'reggae00053',\n",
       "       'hiphop00064', 'disco00035', 'rock00086', 'classical00012',\n",
       "       'metal00081', 'pop00021', 'blues00042', 'rock00030', 'disco00080',\n",
       "       'metal00050', 'pop00041', 'jazz00050', 'reggae00083',\n",
       "       'hiphop00082', 'classical00047', 'country00089', 'hiphop00026',\n",
       "       'disco00079', 'jazz00052', 'reggae00029', 'blues00002',\n",
       "       'rock00010', 'pop00042', 'country00079', 'classical00059',\n",
       "       'metal00099', 'blues00048', 'jazz00089', 'rock00049',\n",
       "       'country00099', 'reggae00009', 'disco00046', 'metal00037',\n",
       "       'pop00070', 'hiphop00036', 'classical00085'], dtype='<U14')"
      ]
     },
     "execution_count": 9,
     "metadata": {},
     "output_type": "execute_result"
    }
   ],
   "source": [
    "gtrack_stacked"
   ]
  },
  {
   "cell_type": "code",
   "execution_count": 15,
   "metadata": {},
   "outputs": [
    {
     "name": "stdout",
     "output_type": "stream",
     "text": [
      "41\n",
      "disco\n",
      "9\n",
      "4.21\n",
      "00009\n",
      "/data01/data/fMRI_music_genre/data_wav/genres_original/disco/disco.00009.wav\n",
      "(240000, 1)\n"
     ]
    }
   ],
   "source": [
    "event_path = neural_path + '/func/' + training_files[0]\n",
    "events_df = pd.read_csv(event_path, sep='\\t')\n",
    "print(len(events_df))\n",
    "genre = events_df['genre'].iloc[0].strip(\"'\") \n",
    "print(genre)\n",
    "track = int(events_df['track'].iloc[0])\n",
    "print(track)\n",
    "start = float(events_df['start'].iloc[0])\n",
    "print(start)\n",
    "track_str = str(track).zfill(5)  \n",
    "print(track_str)\n",
    "get_path = os.path.join(stimuli_path, 'genres_original', genre, f\"{genre}.{track_str}.wav\")\n",
    "print(get_path)\n",
    "y, sr = librosa.load(get_path, sr=16000, offset=start, duration=15)\n",
    "print(y.reshape(-1,1).shape)"
   ]
  },
  {
   "cell_type": "code",
   "execution_count": 6,
   "metadata": {},
   "outputs": [],
   "source": [
    "# def construct_wav_path(row):\n",
    "#     genre = row['genre'].strip(\"'\")  \n",
    "#     track = int(row['track'])\n",
    "#     track_str = str(track).zfill(5)  \n",
    "#     return os.path.join(base_directory, genre, f\"{genre}.{track_str}.wav\")"
   ]
  },
  {
   "cell_type": "code",
   "execution_count": null,
   "metadata": {},
   "outputs": [],
   "source": [
    "\n",
    "\n",
    "\n"
   ]
  },
  {
   "cell_type": "code",
   "execution_count": null,
   "metadata": {},
   "outputs": [],
   "source": []
  },
  {
   "cell_type": "code",
   "execution_count": null,
   "metadata": {},
   "outputs": [],
   "source": []
  },
  {
   "cell_type": "code",
   "execution_count": null,
   "metadata": {},
   "outputs": [],
   "source": []
  }
 ],
 "metadata": {
  "kernelspec": {
   "display_name": "speech-meg",
   "language": "python",
   "name": "python3"
  },
  "language_info": {
   "codemirror_mode": {
    "name": "ipython",
    "version": 3
   },
   "file_extension": ".py",
   "mimetype": "text/x-python",
   "name": "python",
   "nbconvert_exporter": "python",
   "pygments_lexer": "ipython3",
   "version": "3.9.16"
  }
 },
 "nbformat": 4,
 "nbformat_minor": 2
}
