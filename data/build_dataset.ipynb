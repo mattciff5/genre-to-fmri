{
 "cells": [
  {
   "cell_type": "code",
   "execution_count": 7,
   "metadata": {},
   "outputs": [],
   "source": [
    "import os\n",
    "import pandas as pd \n",
    "import librosa\n",
    "import numpy as np\n",
    "import matplotlib.pyplot as plt\n",
    "import torch \n",
    "from IPython.display import Audio\n",
    "from tqdm import tqdm\n",
    "\n",
    "import nibabel as nib\n",
    "from nilearn import plotting\n",
    "from nilearn.glm.first_level import FirstLevelModel\n",
    "from nilearn.plotting import plot_design_matrix\n",
    "from nilearn.plotting import plot_contrast_matrix"
   ]
  },
  {
   "cell_type": "code",
   "execution_count": 2,
   "metadata": {},
   "outputs": [
    {
     "name": "stdout",
     "output_type": "stream",
     "text": [
      "['data_wav', 'ds003720', 'glmsingle_outputs']\n",
      "['brain2music-captions.csv', 'genres_original', '.DS_Store', 'features_30_sec.csv', 'images_original', 'features_3_sec.csv']\n",
      "['anat', 'func']\n"
     ]
    }
   ],
   "source": [
    "fmri_music_path = '/data01/data/fMRI_music_genre'\n",
    "print(os.listdir(fmri_music_path))\n",
    "stimuli_path = fmri_music_path + '/data_wav'\n",
    "print(os.listdir(stimuli_path))\n",
    "\n",
    "neural_path = fmri_music_path + '/ds003720/sub-001'\n",
    "print(os.listdir(neural_path))\n",
    "# fmri_data = nib.load(event_path_train.replace('events.tsv', 'bold.nii'))"
   ]
  },
  {
   "cell_type": "code",
   "execution_count": 5,
   "metadata": {},
   "outputs": [
    {
     "name": "stdout",
     "output_type": "stream",
     "text": [
      "['sub-001_task-Training_run-01_events.tsv', 'sub-001_task-Training_run-02_events.tsv', 'sub-001_task-Training_run-03_events.tsv', 'sub-001_task-Training_run-04_events.tsv', 'sub-001_task-Training_run-05_events.tsv', 'sub-001_task-Training_run-06_events.tsv', 'sub-001_task-Training_run-07_events.tsv', 'sub-001_task-Training_run-08_events.tsv', 'sub-001_task-Training_run-09_events.tsv', 'sub-001_task-Training_run-10_events.tsv', 'sub-001_task-Training_run-11_events.tsv', 'sub-001_task-Training_run-12_events.tsv']\n"
     ]
    }
   ],
   "source": [
    "def is_training_events_file(filename, phase):\n",
    "    return filename.startswith(\"sub-001_task-\"+phase+\"_run-\") and filename.endswith(\"_events.tsv\")\n",
    "\n",
    "all_files = os.listdir(neural_path + '/func')\n",
    "training_files = [filename for filename in all_files if is_training_events_file(filename, \"Training\")]\n",
    "print(training_files)"
   ]
  },
  {
   "cell_type": "code",
   "execution_count": 8,
   "metadata": {},
   "outputs": [
    {
     "name": "stderr",
     "output_type": "stream",
     "text": [
      "  0%|          | 0/12 [00:00<?, ?it/s]"
     ]
    },
    {
     "name": "stderr",
     "output_type": "stream",
     "text": [
      "/home/matteoc/miniconda3/envs/speech-meg/lib/python3.9/site-packages/nilearn/glm/first_level/experimental_paradigm.py:167: UserWarning: The following unexpected columns in events data will be ignored: genre, end, track, start\n",
      "  warnings.warn(\n",
      "  8%|▊         | 1/12 [00:30<05:37, 30.67s/it]/home/matteoc/miniconda3/envs/speech-meg/lib/python3.9/site-packages/nilearn/glm/first_level/experimental_paradigm.py:167: UserWarning: The following unexpected columns in events data will be ignored: genre, end, track, start\n",
      "  warnings.warn(\n",
      " 17%|█▋        | 2/12 [01:01<05:05, 30.59s/it]/home/matteoc/miniconda3/envs/speech-meg/lib/python3.9/site-packages/nilearn/glm/first_level/experimental_paradigm.py:167: UserWarning: The following unexpected columns in events data will be ignored: genre, end, track, start\n",
      "  warnings.warn(\n",
      " 25%|██▌       | 3/12 [01:34<04:46, 31.82s/it]/home/matteoc/miniconda3/envs/speech-meg/lib/python3.9/site-packages/nilearn/glm/first_level/experimental_paradigm.py:167: UserWarning: The following unexpected columns in events data will be ignored: genre, end, track, start\n",
      "  warnings.warn(\n",
      " 33%|███▎      | 4/12 [02:08<04:20, 32.60s/it]/home/matteoc/miniconda3/envs/speech-meg/lib/python3.9/site-packages/nilearn/glm/first_level/experimental_paradigm.py:167: UserWarning: The following unexpected columns in events data will be ignored: genre, end, track, start\n",
      "  warnings.warn(\n",
      " 42%|████▏     | 5/12 [03:00<04:37, 39.68s/it]/home/matteoc/miniconda3/envs/speech-meg/lib/python3.9/site-packages/nilearn/glm/first_level/experimental_paradigm.py:167: UserWarning: The following unexpected columns in events data will be ignored: genre, end, track, start\n",
      "  warnings.warn(\n",
      " 50%|█████     | 6/12 [03:37<03:52, 38.77s/it]/home/matteoc/miniconda3/envs/speech-meg/lib/python3.9/site-packages/nilearn/glm/first_level/experimental_paradigm.py:167: UserWarning: The following unexpected columns in events data will be ignored: genre, end, track, start\n",
      "  warnings.warn(\n",
      " 58%|█████▊    | 7/12 [04:10<03:04, 36.99s/it]/home/matteoc/miniconda3/envs/speech-meg/lib/python3.9/site-packages/nilearn/glm/first_level/experimental_paradigm.py:167: UserWarning: The following unexpected columns in events data will be ignored: genre, end, track, start\n",
      "  warnings.warn(\n",
      " 67%|██████▋   | 8/12 [05:08<02:53, 43.48s/it]/home/matteoc/miniconda3/envs/speech-meg/lib/python3.9/site-packages/nilearn/glm/first_level/experimental_paradigm.py:167: UserWarning: The following unexpected columns in events data will be ignored: genre, end, track, start\n",
      "  warnings.warn(\n",
      " 75%|███████▌  | 9/12 [05:58<02:17, 45.70s/it]/home/matteoc/miniconda3/envs/speech-meg/lib/python3.9/site-packages/nilearn/glm/first_level/experimental_paradigm.py:167: UserWarning: The following unexpected columns in events data will be ignored: genre, end, track, start\n",
      "  warnings.warn(\n",
      " 83%|████████▎ | 10/12 [06:35<01:25, 42.84s/it]/home/matteoc/miniconda3/envs/speech-meg/lib/python3.9/site-packages/nilearn/glm/first_level/experimental_paradigm.py:167: UserWarning: The following unexpected columns in events data will be ignored: genre, end, track, start\n",
      "  warnings.warn(\n",
      " 92%|█████████▏| 11/12 [07:12<00:40, 40.99s/it]/home/matteoc/miniconda3/envs/speech-meg/lib/python3.9/site-packages/nilearn/glm/first_level/experimental_paradigm.py:167: UserWarning: The following unexpected columns in events data will be ignored: genre, end, track, start\n",
      "  warnings.warn(\n",
      "100%|██████████| 12/12 [07:53<00:00, 39.45s/it]\n"
     ]
    },
    {
     "name": "stdout",
     "output_type": "stream",
     "text": [
      "(96, 96, 68, 492)\n"
     ]
    }
   ],
   "source": [
    "def get_fmri_data(training_files, t_r):\n",
    "    eff_map_arrays = []\n",
    "    for event in tqdm(training_files):\n",
    "        event_path = neural_path + '/func/' + event\n",
    "        events_df = pd.read_csv(event_path, sep='\\t')\n",
    "        fmri_img = nib.load(event_path.replace('events.tsv', 'bold.nii'))\n",
    "\n",
    "        events_df['trial_type'] = events_df['genre'].str.strip(\"'\") + ' - ' + events_df['track'].astype(str)\n",
    "        first_level_model = FirstLevelModel(t_r)\n",
    "        first_level_model = first_level_model.fit(fmri_img, events=events_df)\n",
    "        design_matrix_gentrack = first_level_model.design_matrices_[0]\n",
    "\n",
    "        contrast_val_gentrack = np.eye(design_matrix_gentrack.shape[1])[0:-13]\n",
    "        eff_map_gentrack = first_level_model.compute_contrast(contrast_val_gentrack, output_type=\"effect_size\")\n",
    "        data_gentrack = eff_map_gentrack.get_fdata()\n",
    "        eff_map_arrays.append(data_gentrack)\n",
    "\n",
    "    eff_map_stacked = np.concatenate(eff_map_arrays, axis=-1)\n",
    "    return eff_map_stacked\n",
    "\n",
    "eff_map_stacked = get_fmri_data(training_files, 1.5)\n",
    "print(eff_map_stacked.shape)\n"
   ]
  },
  {
   "cell_type": "code",
   "execution_count": 18,
   "metadata": {},
   "outputs": [
    {
     "name": "stdout",
     "output_type": "stream",
     "text": [
      "disco\n",
      "9\n",
      "4.21\n",
      "19.21\n",
      "00009\n"
     ]
    }
   ],
   "source": [
    "event_path = neural_path + '/func/' + training_files[0]\n",
    "events_df = pd.read_csv(event_path, sep='\\t')\n",
    "genre = events_df['genre'].iloc[0].strip(\"'\") \n",
    "print(genre)\n",
    "track = int(events_df['track'].iloc[0])\n",
    "print(track)\n",
    "start = float(events_df['start'].iloc[0])\n",
    "print(start)\n",
    "end = float(events_df['end'].iloc[0])\n",
    "print(end)\n",
    "track_str = str(track).zfill(5)  \n",
    "print(track_str)"
   ]
  },
  {
   "cell_type": "code",
   "execution_count": 19,
   "metadata": {},
   "outputs": [],
   "source": [
    "# def construct_wav_path(row):\n",
    "#     genre = row['genre'].strip(\"'\")  \n",
    "#     track = int(row['track'])\n",
    "#     track_str = str(track).zfill(5)  \n",
    "#     return os.path.join(base_directory, genre, f\"{genre}.{track_str}.wav\")"
   ]
  },
  {
   "cell_type": "code",
   "execution_count": null,
   "metadata": {},
   "outputs": [],
   "source": [
    "\n",
    "\n",
    "\n"
   ]
  },
  {
   "cell_type": "code",
   "execution_count": null,
   "metadata": {},
   "outputs": [],
   "source": []
  },
  {
   "cell_type": "code",
   "execution_count": null,
   "metadata": {},
   "outputs": [],
   "source": []
  },
  {
   "cell_type": "code",
   "execution_count": null,
   "metadata": {},
   "outputs": [],
   "source": []
  }
 ],
 "metadata": {
  "kernelspec": {
   "display_name": "speech-meg",
   "language": "python",
   "name": "python3"
  },
  "language_info": {
   "codemirror_mode": {
    "name": "ipython",
    "version": 3
   },
   "file_extension": ".py",
   "mimetype": "text/x-python",
   "name": "python",
   "nbconvert_exporter": "python",
   "pygments_lexer": "ipython3",
   "version": "3.9.16"
  }
 },
 "nbformat": 4,
 "nbformat_minor": 2
}
